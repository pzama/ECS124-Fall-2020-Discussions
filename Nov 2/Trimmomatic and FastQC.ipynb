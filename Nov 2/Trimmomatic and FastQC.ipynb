{
 "cells": [
  {
   "cell_type": "markdown",
   "metadata": {},
   "source": [
    "This lecture uses files from this tutorial:\n",
    "\n",
    "https://datacarpentry.org/wrangling-genomics/03-trimming/index.html"
   ]
  },
  {
   "cell_type": "markdown",
   "metadata": {},
   "source": [
    "# FastQC: A quality control tool for high throughput sequence data"
   ]
  },
  {
   "cell_type": "markdown",
   "metadata": {},
   "source": [
    "FastQC is a GUI program for quality controlling of FASTQ files. Installation directions are below:"
   ]
  },
  {
   "cell_type": "markdown",
   "metadata": {},
   "source": [
    "https://www.bioinformatics.babraham.ac.uk/projects/download.html#fastqc"
   ]
  },
  {
   "cell_type": "markdown",
   "metadata": {},
   "source": [
    "Download these files and copy them inside the `Nov 2` directory:"
   ]
  },
  {
   "cell_type": "raw",
   "metadata": {},
   "source": [
    "ftp://ftp.sra.ebi.ac.uk/vol1/fastq/SRR258/004/SRR2589044/SRR2589044_1.fastq.gz\n",
    "ftp://ftp.sra.ebi.ac.uk/vol1/fastq/SRR258/004/SRR2589044/SRR2589044_2.fastq.gz"
   ]
  },
  {
   "cell_type": "markdown",
   "metadata": {},
   "source": [
    "These are gunzipped files. Most bioinformatics programs accept compressed .gz files as input but you can decompress them by running `gunzip` (which should be by default installed on Linux and Mac systems, but of course not Windows):"
   ]
  },
  {
   "cell_type": "raw",
   "metadata": {},
   "source": [
    "gunzip SRR2589044_1.fastq.gz"
   ]
  },
  {
   "cell_type": "markdown",
   "metadata": {},
   "source": [
    "The above will decompress the file in-place and remove the original compressed file."
   ]
  },
  {
   "cell_type": "markdown",
   "metadata": {},
   "source": [
    "These are Illumina paired-end reads for 3 samples, we will work with the first sample for now.\n",
    "\n",
    "Paired-end reads are usually output in two files. Each file contains one half of each pair of reads in the same order. Let's see the first read from SRR2589044_1:"
   ]
  },
  {
   "cell_type": "raw",
   "metadata": {},
   "source": [
    "@SRR2589044.1 HWI-ST957:244:H73TDADXX:1:1101:10469:2228/1\n",
    "GTGGAAACCAGCGACGGTGACGGCTATATCAACTGCGTGATTGAACATCAAAGCTCTGCAGAAAAGAATATGGCTTTTCGGCTAATGCGCTATGCCACTGCCGCCATGCAGCGTCACCTGGATAACTGTCTCTTATACACATCTCCGAGC\n",
    "+\n",
    "BBBFFFFFHHHHHJJJJIIGIIJJJJJGIJJIJJJIJIJGHIIJIIFFFGHHFFFFFEEEEEEDDDDDDDEEDCDDDDDD@BDDDDDDDDBDDDDDDDDDCABDDDDCDDCCDBDDDDDDDBDEDDDCCDCDCDDDDCDDDCDDDD@DDD"
   ]
  },
  {
   "cell_type": "markdown",
   "metadata": {},
   "source": [
    "Now let's see the first read from SRR2589044_2:"
   ]
  },
  {
   "cell_type": "raw",
   "metadata": {},
   "source": [
    "`@SRR2589044.1 HWI-ST957:244:H73TDADXX:1:1101:10469:2228/2\n",
    "TTATCCAGGTGACGCTGCATGGCGNNNNNNNNATAGCGCATTAGCCNNNNNNNNATATTCTTTTCTGCANNNNNTTGATGTTCAATCACNNNNNNNNNNNNNNNNNNNNNNNNNNNNNNNNNNNNNNNNNNNNNNNNNNNNNNNNNNNNN\n",
    "+\n",
    "CCCFFFFFHFFHHJJIIIJJJJJJ########00?DHHIJJJGGIJ########-,;BDDDEEEEEDDD#####,,8?BDFDEEDDDCC#############################################################"
   ]
  },
  {
   "cell_type": "markdown",
   "metadata": {},
   "source": [
    "Note that the IDs are the same except for the `/1` and `/2` in the end which specified which member of the pair the reads is."
   ]
  },
  {
   "cell_type": "markdown",
   "metadata": {},
   "source": [
    "Now let's run FastQC and open these two files in it, it will take some time to process:"
   ]
  },
  {
   "cell_type": "markdown",
   "metadata": {},
   "source": [
    "![FastQC Output](images/fastqc_1.png)"
   ]
  },
  {
   "cell_type": "markdown",
   "metadata": {},
   "source": [
    "Different tabs on the left show various output plots.  Most are self-explanatory; we'll go over some of the key ones."
   ]
  },
  {
   "cell_type": "markdown",
   "metadata": {},
   "source": [
    "The \"per base sequence quality\" shows the average quality for each position in the read across all reads. We usually expect less quality along the first and last bases but higher qualities in the middle:"
   ]
  },
  {
   "cell_type": "markdown",
   "metadata": {},
   "source": [
    "![Per Base Quality](images/per_base.png)"
   ]
  },
  {
   "cell_type": "markdown",
   "metadata": {},
   "source": [
    "Next we move to the \"per sequence quality\", which shows the average read quality for all reads. The quality of each read is simply the average quality across all its bases."
   ]
  },
  {
   "cell_type": "markdown",
   "metadata": {},
   "source": [
    "![Per Sequence Quality](images/per_sequence.png)"
   ]
  },
  {
   "cell_type": "markdown",
   "metadata": {},
   "source": [
    "A more interesting plot is the \"per base sequence content\". There is a warning sign next to it in our output. Let's see why:"
   ]
  },
  {
   "cell_type": "markdown",
   "metadata": {},
   "source": [
    "![Per Base Content](images/per_base_content.png)"
   ]
  },
  {
   "cell_type": "markdown",
   "metadata": {},
   "source": [
    "We usually expect all bases to have more or less equal representation in different positions. Here we're not seeing that. The yellow warning means the different between bases has been more than 10% for at least one position. If the difference was more than 20% for a certain position, we would see a red cross which indicates FastQC failure. If you look at the output for the second file, you'll see that the difference has been more 20%:"
   ]
  },
  {
   "cell_type": "markdown",
   "metadata": {},
   "source": [
    "![Per Base Content](images/per_base_content_2.png)"
   ]
  },
  {
   "cell_type": "markdown",
   "metadata": {},
   "source": [
    "This is due to the presence of fixed adapter sequences at the beginning of reads."
   ]
  },
  {
   "cell_type": "markdown",
   "metadata": {},
   "source": [
    "# Trimmomatic:  A flexible read trimming tool for Illumina NGS data"
   ]
  },
  {
   "cell_type": "markdown",
   "metadata": {},
   "source": [
    "We will now use a tool called Trimmomatic to remove low-quality and otherwise problematic sequences from our data. Trimmomatic also requires Java to be installed. Download Trimmoamtic here:"
   ]
  },
  {
   "cell_type": "markdown",
   "metadata": {},
   "source": [
    "http://www.usadellab.org/cms/uploads/supplementary/Trimmomatic/Trimmomatic-0.39.zip"
   ]
  },
  {
   "cell_type": "markdown",
   "metadata": {},
   "source": [
    "One downloaded unzip the output and run it using `java -jar`:"
   ]
  },
  {
   "cell_type": "raw",
   "metadata": {},
   "source": [
    "java -jar trimmomatic-0.39.jar"
   ]
  },
  {
   "cell_type": "markdown",
   "metadata": {},
   "source": [
    "We will get the following output:"
   ]
  },
  {
   "cell_type": "raw",
   "metadata": {},
   "source": [
    "Usage:\n",
    "       PE [-version] [-threads <threads>] [-phred33|-phred64] [-trimlog <trimLogFile>] [-summary <statsSummaryFile>] [-quiet] [-validatePairs] [-basein <inputBase> | <inputFile1> <inputFile2>] [-baseout <outputBase> | <outputFile1P> <outputFile1U> <outputFile2P> <outputFile2U>] <trimmer1>...\n",
    "   or:\n",
    "       SE [-version] [-threads <threads>] [-phred33|-phred64] [-trimlog <trimLogFile>] [-summary <statsSummaryFile>] [-quiet] <inputFile> <outputFile> <trimmer1>...\n",
    "   or:\n",
    "       -version"
   ]
  },
  {
   "cell_type": "markdown",
   "metadata": {},
   "source": [
    "We need to determine if we have Paired-End or Single-End data. The last option `<trimmer1>` expects some flags on how to trim the inputs:"
   ]
  },
  {
   "cell_type": "markdown",
   "metadata": {},
   "source": [
    "* ILLUMINACLIP:<fastaWithAdaptersEtc>:<seed mismatches>:<palindrome clip threshold>:<simple clip threshold>\n",
    "    * fastaWithAdaptersEtc: specifies the path to a fasta file containing all the adapters, PCR sequences etc. The naming of the various sequences within this file determines how they are used. See below.\n",
    "    * seedMismatches: specifies the maximum mismatch count which will still allow a full match to be performed\n",
    "    * palindromeClipThreshold: specifies how accurate the match between the two 'adapter ligated' reads must be for PE palindrome read alignment.\n",
    "    *simpleClipThreshold: specifies how accurate the match between any adapter etc. sequence must be against a read.\n",
    "* SLIDINGWINDOW:<windowSize>:<requiredQuality>\n",
    "    * windowSize: specifies the number of bases to average across\n",
    "    * requiredQuality: specifies the average quality required.\n",
    "* LEADING:<quality>\n",
    "    * quality: Specifies the minimum quality required to keep a base.\n",
    "* TRAILING:<quality>\n",
    "    * quality: Specifies the minimum quality required to keep a base.\n",
    "* CROP:<length>\n",
    "    * length: The number of bases to keep, from the start of the read.\n",
    "* HEADCROP:<length>\n",
    "    * length: The number of bases to remove from the start of the read.\n",
    "* MINLEN:<length>\n",
    "    * length: Specifies the minimum length of reads to be kept.m"
   ]
  },
  {
   "cell_type": "markdown",
   "metadata": {},
   "source": [
    "For instance, look at this sample invocations:"
   ]
  },
  {
   "cell_type": "raw",
   "metadata": {},
   "source": [
    "trimmomatic PE -threads 4 SRR_1056_1.fastq SRR_1056_2.fastq  \\\n",
    "              SRR_1056_1.trimmed.fastq SRR_1056_1un.trimmed.fastq \\\n",
    "              SRR_1056_2.trimmed.fastq SRR_1056_2un.trimmed.fastq \\\n",
    "              ILLUMINACLIP:SRR_adapters.fa SLIDINGWINDOW:4:20"
   ]
  },
  {
   "cell_type": "markdown",
   "metadata": {},
   "source": [
    "Here we're telling it to clip Ilumina adapters using the file `SRR_adapters.fa`."
   ]
  },
  {
   "cell_type": "markdown",
   "metadata": {},
   "source": [
    "The downloaded zip file includes adapters for several different sequencers."
   ]
  },
  {
   "cell_type": "markdown",
   "metadata": {},
   "source": [
    "Let's clean the files we used with FastQC:"
   ]
  },
  {
   "cell_type": "raw",
   "metadata": {},
   "source": [
    "java -jar trimmomatic-0.39.jar PE -phred64 SRR2589044_1.fastq.gz SRR2589044_2.fastq.gz SRR2589044_1.trim.fastq.gz SRR2589044_1un.trim.fastq.gz SRR2589044_2.trim.fastq.gz SRR2589044_2un.trim.fastq.gz SLIDINGWINDOW:4:20 MINLEN:25 ILLUMINACLIP:NexteraPE-PE.fa:2:40:15"
   ]
  },
  {
   "cell_type": "markdown",
   "metadata": {},
   "source": [
    "Above, we have identified the quality encoding ar phred33 and we're using Nextera (predecessor to Illumina) adapters."
   ]
  },
  {
   "cell_type": "raw",
   "metadata": {},
   "source": [
    "Using PrefixPair: 'AGATGTGTATAAGAGACAG' and 'AGATGTGTATAAGAGACAG'\n",
    "Using Long Clipping Sequence: 'GTCTCGTGGGCTCGGAGATGTGTATAAGAGACAG'\n",
    "Using Long Clipping Sequence: 'TCGTCGGCAGCGTCAGATGTGTATAAGAGACAG'\n",
    "Using Long Clipping Sequence: 'CTGTCTCTTATACACATCTCCGAGCCCACGAGAC'\n",
    "Using Long Clipping Sequence: 'CTGTCTCTTATACACATCTGACGCTGCCGACGA'\n",
    "ILLUMINACLIP: Using 1 prefix pairs, 4 forward/reverse sequences, 0 forward only sequences, 0 reverse only sequences\n",
    "Input Read Pairs: 1107090 Both Surviving: 885220 (79.96%) Forward Only Surviving: 216472 (19.55%) Reverse Only Surviving: 2850 (0.26%) Dropped: 2548 (0.23%)\n",
    "TrimmomaticPE: Completed successfully"
   ]
  },
  {
   "cell_type": "markdown",
   "metadata": {},
   "source": [
    "You can check that output files are smaller than the input files because some reads have been removed."
   ]
  },
  {
   "cell_type": "markdown",
   "metadata": {},
   "source": [
    "Now let's run FastQC for the output files `SRR2589044_1.trim.fastq.gz` and `SRR2589044_2.trim.fastq.gz`."
   ]
  },
  {
   "cell_type": "markdown",
   "metadata": {},
   "source": [
    "![Per Base Quality](images/per_base_quality_trim.png)"
   ]
  },
  {
   "cell_type": "markdown",
   "metadata": {},
   "source": [
    "You'll see that quality is slightly higher now compared to before filtering."
   ]
  }
 ],
 "metadata": {
  "kernelspec": {
   "display_name": "Python 3",
   "language": "python",
   "name": "python3"
  },
  "language_info": {
   "codemirror_mode": {
    "name": "ipython",
    "version": 3
   },
   "file_extension": ".py",
   "mimetype": "text/x-python",
   "name": "python",
   "nbconvert_exporter": "python",
   "pygments_lexer": "ipython3",
   "version": "3.7.3"
  }
 },
 "nbformat": 4,
 "nbformat_minor": 4
}
