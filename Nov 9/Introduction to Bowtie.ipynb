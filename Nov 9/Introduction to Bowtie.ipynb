{
 "cells": [
  {
   "cell_type": "markdown",
   "metadata": {},
   "source": [
    "# Bowtie\n",
    "\n",
    "Today we will talk about read mapping with Bowtie. download latest version from here:\n",
    "\n",
    "https://sourceforge.net/projects/bowtie-bio/files/bowtie/1.3.0/\n",
    "\n",
    "You can also get it grom the Github repository:\n",
    "\n",
    "https://github.com/BenLangmead/bowtie2\n",
    "\n",
    "We will follow this session mostly through the terminal. Make sure you have the required files downloaded from Canvas (chr2.fastq) and download the FASTA file for human chr2 from below:\n",
    "\n",
    "http://hgdownload.cse.ucsc.edu/goldenPath/hg38/chromosomes/chr2.fa.gz"
   ]
  },
  {
   "cell_type": "code",
   "execution_count": null,
   "metadata": {},
   "outputs": [],
   "source": []
  }
 ],
 "metadata": {
  "kernelspec": {
   "display_name": "Python 3",
   "language": "python",
   "name": "python3"
  },
  "language_info": {
   "codemirror_mode": {
    "name": "ipython",
    "version": 3
   },
   "file_extension": ".py",
   "mimetype": "text/x-python",
   "name": "python",
   "nbconvert_exporter": "python",
   "pygments_lexer": "ipython3",
   "version": "3.7.3"
  }
 },
 "nbformat": 4,
 "nbformat_minor": 4
}
