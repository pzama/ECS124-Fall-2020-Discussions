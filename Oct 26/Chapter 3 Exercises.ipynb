{
 "cells": [
  {
   "cell_type": "markdown",
   "metadata": {},
   "source": [
    "# Kmer Composition\n",
    "\n",
    "kmers are a very useful thing in bioinformatics. Sepcially when it comes to genome assembly. The first step in a kmer analysis is usually finding what kmers are there. We have done this in almost every problem we've solved so far:"
   ]
  },
  {
   "cell_type": "code",
   "execution_count": 68,
   "metadata": {},
   "outputs": [],
   "source": [
    "def kmer_composition(text, k):\n",
    "    kmers = {}\n",
    "    for i in range(len(text) - k + 1):\n",
    "        kmer = text[i: i + k]\n",
    "        kmers[kmer] = True\n",
    "    # we have a dictionary that doesn't have duplicates\n",
    "    kmer_list = []\n",
    "    for kmer in kmers:\n",
    "        kmer_list.append(kmer)\n",
    "    return kmer_list"
   ]
  },
  {
   "cell_type": "code",
   "execution_count": 69,
   "metadata": {},
   "outputs": [
    {
     "data": {
      "text/plain": [
       "['ACT', 'CTA', 'TAG', 'AGC', 'GCT', 'AGA', 'GAT', 'ATC', 'TCG', 'CGA']"
      ]
     },
     "execution_count": 69,
     "metadata": {},
     "output_type": "execute_result"
    }
   ],
   "source": [
    "dna = 'ACTAGCTAGATCGA'\n",
    "\n",
    "kmer_composition(dna, 3)"
   ]
  },
  {
   "cell_type": "markdown",
   "metadata": {},
   "source": [
    "# String Spelled by a Genome Path Problem\n",
    "\n",
    "Given a number of overlapping kmers, we want to rebuild the string they \"spell\".\n",
    "\n",
    "Because each kmer share k - 1 bases with the previous one, each pair adds 1 base to this \"assembly\"."
   ]
  },
  {
   "cell_type": "code",
   "execution_count": 76,
   "metadata": {},
   "outputs": [],
   "source": [
    "def spell_assembly(kmers):\n",
    "    k = len(kmers[0])\n",
    "    base = kmers[0]\n",
    "    for kmer in kmers[1:]:\n",
    "        base = base + kmer[-1]\n",
    "    return base"
   ]
  },
  {
   "cell_type": "code",
   "execution_count": 77,
   "metadata": {},
   "outputs": [
    {
     "data": {
      "text/plain": [
       "'ACCGAAGCT'"
      ]
     },
     "execution_count": 77,
     "metadata": {},
     "output_type": "execute_result"
    }
   ],
   "source": [
    "kmers = \\\n",
    "['ACCGA', \n",
    "  'CCGAA',\n",
    "   'CGAAG',\n",
    "    'GAAGC',\n",
    "     'AAGCT'\n",
    "]\n",
    "\n",
    "\n",
    "spell_assembly(kmers)"
   ]
  },
  {
   "cell_type": "markdown",
   "metadata": {},
   "source": [
    "# Overlap Graph Problem\n",
    "\n",
    "We create an adjaceny matrix for the overlap graph made out of a set of kmers. Two kmers overlap if one's suffix is the prefix of another one. \n",
    "\n",
    "Here we define suffix as the last k - 1 bases and the prefix as the first k - 1 bases. These can be more generally defined as the last or first $q$ bases where $1 \\leq q \\leq k - 1$.\n",
    "\n",
    "There are two ways to store a graph. An adjaceny list or an adjacency matrix. \n",
    "\n",
    "The adjacency matrix will store the whol $n\\times n$ matrix in memory (e.g a 2-dimensional array). This has the disadvantage that if the matrix is sparse (e.g two many zeros, nodes that aren't connected, we will be wasting space). Advantage is that we can check if two nodes $i$ and $j$ are connected in constant time, by looking at $a_{i,j}$.\n",
    "\n",
    "An adjacency list representation instead store the \"list\" of nodes each node is connected to. This uses less memory in a proper implementaion but checking if a certain node is connected can take $O(n)$ times in a naive implementation because the list for the corresponding node has to be searched. (How to improve this? :D)"
   ]
  },
  {
   "cell_type": "code",
   "execution_count": 11,
   "metadata": {},
   "outputs": [],
   "source": [
    "def create_overlap_graph(kmers):\n",
    "    # create matrix\n",
    "    a = []\n",
    "    k = len(kmers[0])\n",
    "    for i in range(k):\n",
    "        a.append([])\n",
    "        for j in range(k):\n",
    "            a[i].append(0)\n",
    "    # shorter version. Try using this, what goes wrong?\n",
    "    #a = [[0] * len(kmers)] * len(kmers)\n",
    "    for i, p in enumerate(kmers):\n",
    "        for j, q in enumerate(kmers):\n",
    "            if p[1:] == q[:k - 1]:\n",
    "                a[i][j] = 1\n",
    "    print(a)\n",
    "    for i, p in enumerate(kmers):\n",
    "        for j, q in enumerate(kmers):\n",
    "            if a[i][j] == 1:\n",
    "                print(p, '->', q)"
   ]
  },
  {
   "cell_type": "code",
   "execution_count": 13,
   "metadata": {},
   "outputs": [
    {
     "name": "stdout",
     "output_type": "stream",
     "text": [
      "[[0, 0, 0, 0, 0], [0, 0, 1, 0, 0], [1, 0, 0, 0, 0], [0, 0, 0, 0, 1], [0, 1, 0, 0, 0]]\n",
      "GCATG -> CATGC\n",
      "CATGC -> ATGCG\n",
      "AGGCA -> GGCAT\n",
      "GGCAT -> GCATG\n"
     ]
    }
   ],
   "source": [
    "kmers = [\n",
    "    'ATGCG',\n",
    "    'GCATG',\n",
    "    'CATGC',\n",
    "    'AGGCA',\n",
    "    'GGCAT',\n",
    "]\n",
    "\n",
    "create_overlap_graph(kmers)"
   ]
  },
  {
   "cell_type": "markdown",
   "metadata": {},
   "source": [
    "As you can the matrix above is mostly zeros, meaning it's sparse. It's usualy the case the matrices for kmer overlap graphs are sparse (you can even prove that mathematically for a random set of kmers, maybe try if you're curious)."
   ]
  },
  {
   "cell_type": "markdown",
   "metadata": {},
   "source": [
    "# De Bruijn Graph Construction\n",
    "\n",
    "The Hamiltonian Path problem, if it could be solved efficiently, would be the ultimate solution for genome assembly. However this is \"comptuationally hard\" problem, meaning no algorithm exists that can solve it in reasonable time for large data. Instead we should try to solve approximation of the problem. One commone way to deal with this is to modify the graph in such a way that the edges of the new graph correspond to the nodes of the previous graph. The de Bruijn graph is an example of such a transformation."
   ]
  },
  {
   "cell_type": "code",
   "execution_count": 90,
   "metadata": {},
   "outputs": [],
   "source": [
    "def build_de_bruijn_graph(k, text):\n",
    "    kmers = []\n",
    "    for i in range(len(text) - k + 1):\n",
    "        kmer = text[i: i + k]\n",
    "        kmers.append(kmer)\n",
    "    graph = {}\n",
    "    for kmer in kmers:\n",
    "        node = kmer[:k - 1]\n",
    "        if not node in graph:\n",
    "            graph[node] = []\n",
    "        graph[node].append(kmer[1:])\n",
    "    for p in graph:\n",
    "        s = p + ' -> '\n",
    "        for i, q in enumerate(graph[p]):\n",
    "            s += q\n",
    "            if i != len(graph[p]) - 1:\n",
    "                s += ','\n",
    "        print(s)"
   ]
  },
  {
   "cell_type": "code",
   "execution_count": 91,
   "metadata": {},
   "outputs": [],
   "source": [
    "def build_de_bruijn_graph(k, text):\n",
    "    kmers = []\n",
    "    for i in range(len(text) - k + 1):\n",
    "        kmer = text[i:i+k]\n",
    "        kmers.append(kmer)\n",
    "    matrix = {}\n",
    "    for kmer in kmers:\n",
    "        node = kmer[:k - 1]\n",
    "        if not node in matrix:\n",
    "            matrix[node] = []\n",
    "        matrix[node].append(kmer[1:])\n",
    "\n",
    "    for a, node in enumerate(matrix):\n",
    "        n = str(a + 1) + ' '\n",
    "        l = list(matrix)\n",
    "        for i, j in enumerate(matrix[node]):\n",
    "            if j in l:\n",
    "                index_1 = str(l.index(j) + 1)\n",
    "                print(n + index_1)\n",
    "            else:\n",
    "                pass\n",
    "\n",
    "    # for j in matrix:\n",
    "    #     n = j + ' -> '\n",
    "    #     for a, b in enumerate(matrix[j]):\n",
    "    #         n += b\n",
    "    #         if a != len(matrix[j]) - 1:\n",
    "    #             n += ','\n",
    "    #     print(n)"
   ]
  },
  {
   "cell_type": "code",
   "execution_count": 92,
   "metadata": {},
   "outputs": [
    {
     "name": "stdout",
     "output_type": "stream",
     "text": [
      "1 2\n",
      "2 3\n",
      "3 4\n",
      "4 5\n",
      "5 6\n",
      "6 7\n",
      "6 8\n",
      "7 6\n"
     ]
    }
   ],
   "source": [
    "build_de_bruijn_graph(4, 'AAGATTCTCTAC')\n",
    "\n"
   ]
  },
  {
   "cell_type": "markdown",
   "metadata": {},
   "source": [
    "Note that in the previous example we knew the ordering of kmers in the DNA. In real world we won't know this information because the sequencing machines produces millions of reads in random order. What if we only have the kmers as input?"
   ]
  },
  {
   "cell_type": "code",
   "execution_count": 27,
   "metadata": {},
   "outputs": [],
   "source": [
    "def build_de_bruijn_graph_from_kmers(kmers):\n",
    "    matrix = {}\n",
    "    k = len(kmers[0])\n",
    "    for kmer in kmers:\n",
    "        node = kmer[:k - 1]\n",
    "        if not node in matrix:\n",
    "            matrix[node] = []\n",
    "        matrix[node].append(kmer[1:])\n",
    "    for p in matrix:\n",
    "        s = p + ' -> '\n",
    "        for i, q in enumerate(matrix[p]):\n",
    "            s += q\n",
    "            if i != len(matrix[p]) - 1:\n",
    "                s += ','\n",
    "        print(s)"
   ]
  },
  {
   "cell_type": "code",
   "execution_count": 28,
   "metadata": {},
   "outputs": [
    {
     "name": "stdout",
     "output_type": "stream",
     "text": [
      "GAG -> AGG\n",
      "CAG -> AGG,AGG\n",
      "GGG -> GGG,GGA\n",
      "AGG -> GGG\n",
      "GGA -> GAG\n"
     ]
    }
   ],
   "source": [
    "kmers = [\n",
    "    'GAGG',\n",
    "    'CAGG',\n",
    "    'GGGG',\n",
    "    'GGGA',\n",
    "    'CAGG',\n",
    "    'AGGG',\n",
    "    'GGAG',\n",
    "]\n",
    "\n",
    "'GAG' -> [AGG]\n",
    "'CAG' -> [AGG]\n",
    "'GGG' -> [GGG, GGA]\n",
    "\n",
    "\n",
    "\n",
    "build_de_bruijn_graph_from_kmers(kmers)"
   ]
  },
  {
   "cell_type": "markdown",
   "metadata": {},
   "source": [
    "# Finding Eulerian Cycles\n",
    "\n",
    "We use Hierholzer's algorithm reproduced here from Wikipedia:\n",
    "\n",
    "* Choose any starting vertex v, and follow a trail of edges from that vertex until returning to v. It is not possible to get stuck at any vertex other than v, because the even degree of all vertices ensures that, when the trail enters another vertex w there must be an unused edge leaving w. The tour formed in this way is a closed tour, but may not cover all the vertices and edges of the initial graph.\n",
    "* As long as there exists a vertex u that belongs to the current tour but that has adjacent edges not part of the tour, start another trail from u, following unused edges until returning to u, and join the tour formed in this way to the previous tour.\n",
    "* Since we assume the original graph is connected, repeating the previous step will exhaust all edges of the graph."
   ]
  },
  {
   "cell_type": "raw",
   "metadata": {},
   "source": [
    "EULERIANCYCLE(Graph)\n",
    "    form a cycle Cycle by randomly walking in Graph (don't visit the same edge twice!)\n",
    "    while there are unexplored edges in Graph\n",
    "        select a node newStart in Cycle with still unexplored edges\n",
    "        form Cycle’ by traversing Cycle (starting at newStart) and then randomly walking \n",
    "        Cycle ← Cycle’\n",
    "    return Cycle"
   ]
  },
  {
   "cell_type": "code",
   "execution_count": 88,
   "metadata": {},
   "outputs": [],
   "source": [
    "def find_cycle(graph, v):\n",
    "    cycle = []\n",
    "    while len(graph[v]) != 0:\n",
    "        u = graph[v][0]\n",
    "        cycle.append(u)\n",
    "        graph[v].pop(0)\n",
    "        v = u\n",
    "    return cycle\n",
    "\n",
    "def append_cycle(graph, cycle, node):\n",
    "    path = []\n",
    "    v = node\n",
    "    while len(graph[v]) != 0:\n",
    "        u = graph[v][0]\n",
    "        path.append(u)\n",
    "        graph[v].pop(0)\n",
    "        if u in cycle:\n",
    "            print(path)\n",
    "            i = cycle.index(node) + 1\n",
    "            for p in path:\n",
    "                cycle.insert(i, p)\n",
    "                i += 1\n",
    "            break\n",
    "        v = u\n",
    "    print(cycle)\n",
    "    return cycle\n",
    "\n",
    "def eulerian_cycle(graph):\n",
    "    n = len(graph)    \n",
    "    cycle = find_cycle(graph, 0)\n",
    "    print(graph)\n",
    "    print(cycle)\n",
    "    while True:\n",
    "        for i, node in enumerate(cycle):\n",
    "            if len(graph[node]) != 0:\n",
    "                cycle = append_cycle(graph, cycle, node)\n",
    "                print(graph)\n",
    "                break\n",
    "        if len(cycle) == n + 1:\n",
    "            break\n",
    "    print(cycle)"
   ]
  },
  {
   "cell_type": "code",
   "execution_count": null,
   "metadata": {},
   "outputs": [
    {
     "name": "stdout",
     "output_type": "stream",
     "text": [
      "[[3], [0], [1, 6], [2], [2], [4], [5, 8], [9], [7], [6]]\n",
      "[[], [], [6], [], [2], [4], [5, 8], [9], [7], [6]]\n",
      "[3, 2, 1, 0]\n",
      "[6, 5, 4, 2]\n",
      "[3, 2, 6, 5, 4, 2, 1, 0]\n",
      "[[], [], [], [], [], [], [8], [9], [7], [6]]\n",
      "[8, 7, 9, 6]\n",
      "[3, 2, 6, 8, 7, 9, 6, 5, 4, 2, 1, 0]\n",
      "[[], [], [], [], [], [], [], [], [], []]\n"
     ]
    }
   ],
   "source": [
    "g = [0] * 10\n",
    "g[0] = [3]\n",
    "g[1] = [0]\n",
    "g[2] = [1,6]\n",
    "g[3] = [2]\n",
    "g[4] = [2]\n",
    "g[5] = [4]\n",
    "g[6] = [5,8]\n",
    "g[7] = [9]\n",
    "g[8] = [7]\n",
    "g[9] = [6]\n",
    "print(g)\n",
    "\n",
    "eulerian_cycle(g)"
   ]
  },
  {
   "cell_type": "code",
   "execution_count": null,
   "metadata": {},
   "outputs": [],
   "source": [
    "6->8->7->9->6->5->4->2->1->0->3->2->6"
   ]
  }
 ],
 "metadata": {
  "kernelspec": {
   "display_name": "Python 3",
   "language": "python",
   "name": "python3"
  }
 },
 "nbformat": 4,
 "nbformat_minor": 4
}
